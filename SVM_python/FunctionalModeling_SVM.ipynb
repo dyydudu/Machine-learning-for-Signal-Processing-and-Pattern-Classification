{
 "cells": [
  {
   "cell_type": "code",
   "execution_count": 16,
   "metadata": {
    "collapsed": false
   },
   "outputs": [],
   "source": [
    "import pandas as pd\n",
    "from sklearn.preprocessing import Normalizer \n",
    "import keras\n",
    "from keras.utils import to_categorical\n",
    "import numpy as np"
   ]
  },
  {
   "cell_type": "code",
   "execution_count": 17,
   "metadata": {
    "collapsed": true
   },
   "outputs": [],
   "source": [
    "traindata =pd.read_csv(\"mitbih_train.csv\",header=None)"
   ]
  },
  {
   "cell_type": "code",
   "execution_count": 18,
   "metadata": {
    "collapsed": true
   },
   "outputs": [],
   "source": [
    "testdata =pd.read_csv(\"mitbih_test.csv\",header=None)"
   ]
  },
  {
   "cell_type": "code",
   "execution_count": 19,
   "metadata": {
    "collapsed": false
   },
   "outputs": [
    {
     "data": {
      "text/plain": [
       "(87554, 187)"
      ]
     },
     "execution_count": 19,
     "metadata": {},
     "output_type": "execute_result"
    }
   ],
   "source": [
    "x_train=traindata.iloc[:,0:187]\n",
    "y_train=traindata.iloc[:,-1]\n",
    "#print(y_train)\n",
    "x_test=testdata.iloc[:,0:187]\n",
    "y_test=testdata.iloc[:,-1]\n",
    "x_train.shape"
   ]
  },
  {
   "cell_type": "code",
   "execution_count": 20,
   "metadata": {
    "collapsed": false
   },
   "outputs": [],
   "source": [
    "x_train=Normalizer().fit(x_train).transform(x_train)\n",
    "x_test=Normalizer().fit(x_test).transform(x_test)"
   ]
  },
  {
   "cell_type": "code",
   "execution_count": 21,
   "metadata": {
    "collapsed": true
   },
   "outputs": [],
   "source": [
    "y_train1=np.array(y_train)\n",
    "#print(y_train1)\n",
    "y_test1=np.array(y_test)\n",
    "y_train=to_categorical(y_train1)\n",
    "y_testcat=to_categorical(y_test1)"
   ]
  },
  {
   "cell_type": "code",
   "execution_count": 22,
   "metadata": {
    "collapsed": false
   },
   "outputs": [
    {
     "data": {
      "text/plain": [
       "(87554, 187, 1)"
      ]
     },
     "execution_count": 22,
     "metadata": {},
     "output_type": "execute_result"
    }
   ],
   "source": [
    "x_train = np.reshape(x_train, (x_train.shape[0],x_train.shape[1],1))\n",
    "x_test = np.reshape(x_test, (x_test.shape[0],x_test.shape[1],1))\n",
    "x_train.shape"
   ]
  },
  {
   "cell_type": "markdown",
   "metadata": {},
   "source": [
    "# FUNCTIONAL MODELING"
   ]
  },
  {
   "cell_type": "code",
   "execution_count": 9,
   "metadata": {
    "collapsed": true
   },
   "outputs": [],
   "source": [
    "import keras\n",
    "from keras.models import Model\n",
    "from keras.layers import Conv1D,Flatten,Dense,Input,MaxPool1D,Activation,Add,Softmax"
   ]
  },
  {
   "cell_type": "code",
   "execution_count": 10,
   "metadata": {
    "collapsed": false
   },
   "outputs": [
    {
     "name": "stdout",
     "output_type": "stream",
     "text": [
      "__________________________________________________________________________________________________\n",
      "Layer (type)                    Output Shape         Param #     Connected to                     \n",
      "==================================================================================================\n",
      "input_1 (InputLayer)            (None, 187, 1)       0                                            \n",
      "__________________________________________________________________________________________________\n",
      "conv1d_1 (Conv1D)               (None, 183, 32)      192         input_1[0][0]                    \n",
      "__________________________________________________________________________________________________\n",
      "conv1d_2 (Conv1D)               (None, 183, 32)      5152        conv1d_1[0][0]                   \n",
      "__________________________________________________________________________________________________\n",
      "activation_1 (Activation)       (None, 183, 32)      0           conv1d_2[0][0]                   \n",
      "__________________________________________________________________________________________________\n",
      "conv1d_3 (Conv1D)               (None, 183, 32)      5152        activation_1[0][0]               \n",
      "__________________________________________________________________________________________________\n",
      "add_1 (Add)                     (None, 183, 32)      0           conv1d_3[0][0]                   \n",
      "                                                                 conv1d_1[0][0]                   \n",
      "__________________________________________________________________________________________________\n",
      "activation_2 (Activation)       (None, 183, 32)      0           add_1[0][0]                      \n",
      "__________________________________________________________________________________________________\n",
      "max_pooling1d_1 (MaxPooling1D)  (None, 90, 32)       0           activation_2[0][0]               \n",
      "__________________________________________________________________________________________________\n",
      "conv1d_4 (Conv1D)               (None, 90, 32)       5152        max_pooling1d_1[0][0]            \n",
      "__________________________________________________________________________________________________\n",
      "activation_3 (Activation)       (None, 90, 32)       0           conv1d_4[0][0]                   \n",
      "__________________________________________________________________________________________________\n",
      "conv1d_5 (Conv1D)               (None, 90, 32)       5152        activation_3[0][0]               \n",
      "__________________________________________________________________________________________________\n",
      "add_2 (Add)                     (None, 90, 32)       0           conv1d_5[0][0]                   \n",
      "                                                                 max_pooling1d_1[0][0]            \n",
      "__________________________________________________________________________________________________\n",
      "activation_4 (Activation)       (None, 90, 32)       0           add_2[0][0]                      \n",
      "__________________________________________________________________________________________________\n",
      "max_pooling1d_2 (MaxPooling1D)  (None, 43, 32)       0           activation_4[0][0]               \n",
      "__________________________________________________________________________________________________\n",
      "conv1d_6 (Conv1D)               (None, 43, 32)       5152        max_pooling1d_2[0][0]            \n",
      "__________________________________________________________________________________________________\n",
      "activation_5 (Activation)       (None, 43, 32)       0           conv1d_6[0][0]                   \n",
      "__________________________________________________________________________________________________\n",
      "conv1d_7 (Conv1D)               (None, 43, 32)       5152        activation_5[0][0]               \n",
      "__________________________________________________________________________________________________\n",
      "add_3 (Add)                     (None, 43, 32)       0           conv1d_7[0][0]                   \n",
      "                                                                 max_pooling1d_2[0][0]            \n",
      "__________________________________________________________________________________________________\n",
      "activation_6 (Activation)       (None, 43, 32)       0           add_3[0][0]                      \n",
      "__________________________________________________________________________________________________\n",
      "max_pooling1d_3 (MaxPooling1D)  (None, 20, 32)       0           activation_6[0][0]               \n",
      "__________________________________________________________________________________________________\n",
      "conv1d_8 (Conv1D)               (None, 20, 32)       5152        max_pooling1d_3[0][0]            \n",
      "__________________________________________________________________________________________________\n",
      "activation_7 (Activation)       (None, 20, 32)       0           conv1d_8[0][0]                   \n",
      "__________________________________________________________________________________________________\n",
      "conv1d_9 (Conv1D)               (None, 20, 32)       5152        activation_7[0][0]               \n",
      "__________________________________________________________________________________________________\n",
      "add_4 (Add)                     (None, 20, 32)       0           conv1d_9[0][0]                   \n",
      "                                                                 max_pooling1d_3[0][0]            \n",
      "__________________________________________________________________________________________________\n",
      "activation_8 (Activation)       (None, 20, 32)       0           add_4[0][0]                      \n",
      "__________________________________________________________________________________________________\n",
      "max_pooling1d_4 (MaxPooling1D)  (None, 8, 32)        0           activation_8[0][0]               \n",
      "__________________________________________________________________________________________________\n",
      "conv1d_10 (Conv1D)              (None, 8, 32)        5152        max_pooling1d_4[0][0]            \n",
      "__________________________________________________________________________________________________\n",
      "activation_9 (Activation)       (None, 8, 32)        0           conv1d_10[0][0]                  \n",
      "__________________________________________________________________________________________________\n",
      "conv1d_11 (Conv1D)              (None, 8, 32)        5152        activation_9[0][0]               \n",
      "__________________________________________________________________________________________________\n",
      "add_5 (Add)                     (None, 8, 32)        0           conv1d_11[0][0]                  \n",
      "                                                                 max_pooling1d_4[0][0]            \n",
      "__________________________________________________________________________________________________\n",
      "activation_10 (Activation)      (None, 8, 32)        0           add_5[0][0]                      \n",
      "__________________________________________________________________________________________________\n",
      "max_pooling1d_5 (MaxPooling1D)  (None, 2, 32)        0           activation_10[0][0]              \n",
      "__________________________________________________________________________________________________\n",
      "flatten_1 (Flatten)             (None, 64)           0           max_pooling1d_5[0][0]            \n",
      "__________________________________________________________________________________________________\n",
      "dense_1 (Dense)                 (None, 32)           2080        flatten_1[0][0]                  \n",
      "__________________________________________________________________________________________________\n",
      "activation_11 (Activation)      (None, 32)           0           dense_1[0][0]                    \n",
      "__________________________________________________________________________________________________\n",
      "dense_2 (Dense)                 (None, 32)           1056        activation_11[0][0]              \n",
      "__________________________________________________________________________________________________\n",
      "dense_3 (Dense)                 (None, 32)           1056        dense_2[0][0]                    \n",
      "__________________________________________________________________________________________________\n",
      "softmax_1 (Softmax)             (None, 32)           0           dense_3[0][0]                    \n",
      "==================================================================================================\n",
      "Total params: 55,904\n",
      "Trainable params: 55,904\n",
      "Non-trainable params: 0\n",
      "__________________________________________________________________________________________________\n"
     ]
    }
   ],
   "source": [
    "inp=Input(shape=(187,1))\n",
    "c=Conv1D(filters=32,kernel_size=5,strides=1)(inp)\n",
    "c11=Conv1D(filters=32,kernel_size=5,strides=1,padding='same')(c)\n",
    "a11=Activation('relu')(c11)\n",
    "c12=Conv1D(filters=32,kernel_size=5,strides=1,padding='same')(a11)\n",
    "s11=Add()([c12,c])\n",
    "a12=Activation('relu')(s11)\n",
    "m11=MaxPool1D(pool_size=5,strides=2)(a12)\n",
    "\n",
    "c21=Conv1D(filters=32,kernel_size=5,strides=1,padding='same')(m11)\n",
    "a21=Activation('relu')(c21)\n",
    "c22=Conv1D(filters=32,kernel_size=5,strides=1,padding='same')(a21)\n",
    "s21=Add()([c22,m11])\n",
    "a22=Activation('relu')(s21)\n",
    "m21=MaxPool1D(pool_size=5,strides=2)(a22)\n",
    "\n",
    "c31=Conv1D(filters=32,kernel_size=5,strides=1,padding='same')(m21)\n",
    "a31=Activation('relu')(c31)\n",
    "c32=Conv1D(filters=32,kernel_size=5,strides=1,padding='same')(a31)\n",
    "s31=Add()([c32,m21])\n",
    "a32=Activation('relu')(s31)\n",
    "m31=MaxPool1D(pool_size=5,strides=2)(a32)\n",
    "\n",
    "c41=Conv1D(filters=32,kernel_size=5,strides=1,padding='same')(m31)\n",
    "a41=Activation('relu')(c41)\n",
    "c42=Conv1D(filters=32,kernel_size=5,strides=1,padding='same')(a41)\n",
    "s41=Add()([c42,m31])\n",
    "a42=Activation('relu')(s41)\n",
    "m41=MaxPool1D(pool_size=5,strides=2)(a42)\n",
    "\n",
    "c51=Conv1D(filters=32,kernel_size=5,strides=1,padding='same')(m41)\n",
    "a51=Activation('relu')(c51)\n",
    "c52=Conv1D(filters=32,kernel_size=5,strides=1,padding='same')(a51)\n",
    "s51=Add()([c52,m41])\n",
    "a52=Activation('relu')(s51)\n",
    "m51=MaxPool1D(pool_size=5,strides=2)(a52)\n",
    "\n",
    "f1=Flatten()(m51)\n",
    "\n",
    "d1=Dense(32)(f1)\n",
    "a6=Activation('relu')(d1)\n",
    "d2=Dense(32)(a6)\n",
    "d3=Dense(32)(d2)\n",
    "a7=Softmax()(d3)\n",
    "\n",
    "model=Model(inputs=inp,outputs=a7)\n",
    "    \n",
    "\n",
    "model.summary()"
   ]
  },
  {
   "cell_type": "markdown",
   "metadata": {},
   "source": [
    "# SVM"
   ]
  },
  {
   "cell_type": "code",
   "execution_count": 11,
   "metadata": {
    "collapsed": false
   },
   "outputs": [],
   "source": [
    "import sklearn\n",
    "from sklearn import svm"
   ]
  },
  {
   "cell_type": "markdown",
   "metadata": {},
   "source": [
    "cant give reshaped data \n",
    "so loading the data again or use the data before reshaping"
   ]
  },
  {
   "cell_type": "code",
   "execution_count": 26,
   "metadata": {
    "collapsed": true
   },
   "outputs": [],
   "source": [
    "traindata =pd.read_csv(\"mitbih_train.csv\",header=None)\n",
    "testdata =pd.read_csv(\"mitbih_test.csv\",header=None)"
   ]
  },
  {
   "cell_type": "code",
   "execution_count": 27,
   "metadata": {
    "collapsed": false
   },
   "outputs": [
    {
     "data": {
      "text/plain": [
       "(87554, 187)"
      ]
     },
     "execution_count": 27,
     "metadata": {},
     "output_type": "execute_result"
    }
   ],
   "source": [
    "x_train=traindata.iloc[:,0:187]\n",
    "y_train=traindata.iloc[:,-1]\n",
    "#print(y_train)\n",
    "x_test=testdata.iloc[:,0:187]\n",
    "y_test=testdata.iloc[:,-1]\n",
    "x_train.shape"
   ]
  },
  {
   "cell_type": "code",
   "execution_count": 29,
   "metadata": {
    "collapsed": false
   },
   "outputs": [
    {
     "name": "stdout",
     "output_type": "stream",
     "text": [
      "SVC(C=1000, cache_size=200, class_weight=None, coef0=0.0,\n",
      "  decision_function_shape=None, degree=3, gamma='auto', kernel='linear',\n",
      "  max_iter=-1, probability=False, random_state=None, shrinking=True,\n",
      "  tol=0.001, verbose=False)\n"
     ]
    }
   ],
   "source": [
    "model=svm.SVC(kernel='linear',C=1000)\n",
    "model.fit(x_train[60000:80000],y_train[60000:80000])\n",
    "print(model)"
   ]
  },
  {
   "cell_type": "markdown",
   "metadata": {},
   "source": [
    "# making predection"
   ]
  },
  {
   "cell_type": "code",
   "execution_count": 30,
   "metadata": {
    "collapsed": true
   },
   "outputs": [],
   "source": [
    "expected=y_test\n",
    "predicted=model.predict(x_test)"
   ]
  },
  {
   "cell_type": "markdown",
   "metadata": {},
   "source": [
    "# Summarizing the fit of the model"
   ]
  },
  {
   "cell_type": "code",
   "execution_count": 38,
   "metadata": {
    "collapsed": false
   },
   "outputs": [],
   "source": [
    "from sklearn.metrics import precision_score,accuracy_score,recall_score, f1_score\n",
    "import warnings\n",
    "warnings.filterwarnings(\"ignore\")"
   ]
  },
  {
   "cell_type": "code",
   "execution_count": 39,
   "metadata": {
    "collapsed": false
   },
   "outputs": [
    {
     "name": "stdout",
     "output_type": "stream",
     "text": [
      "-------------SVMlinear--------\n",
      "accuracy 0.829\n",
      "recall 0.829\n",
      "precision 0.810\n",
      "f1 score0.814\n"
     ]
    }
   ],
   "source": [
    "print(\"-------------SVMlinear--------\")\n",
    "y_train=expected\n",
    "y_pred=predicted\n",
    "acc=accuracy_score(y_test1,y_pred)\n",
    "recall=recall_score(y_test1,y_pred,average='weighted')\n",
    "precision=precision_score(y_test1,y_pred,average='weighted')\n",
    "f1s=f1_score(y_test1,y_pred,average='weighted')\n",
    "print(\"accuracy %.3f\" %acc)\n",
    "print(\"recall %.3f\" %recall)\n",
    "print(\"precision %.3f\" %precision)\n",
    "print(\"f1 score%.3f\" %f1s)\n"
   ]
  },
  {
   "cell_type": "code",
   "execution_count": null,
   "metadata": {
    "collapsed": true
   },
   "outputs": [],
   "source": []
  }
 ],
 "metadata": {
  "kernelspec": {
   "display_name": "Python [Root]",
   "language": "python",
   "name": "Python [Root]"
  },
  "language_info": {
   "codemirror_mode": {
    "name": "ipython",
    "version": 3
   },
   "file_extension": ".py",
   "mimetype": "text/x-python",
   "name": "python",
   "nbconvert_exporter": "python",
   "pygments_lexer": "ipython3",
   "version": "3.5.6"
  }
 },
 "nbformat": 4,
 "nbformat_minor": 0
}
